{
 "cells": [
  {
   "cell_type": "code",
   "execution_count": 4,
   "id": "3fe4a541",
   "metadata": {},
   "outputs": [
    {
     "data": {
      "text/plain": [
       "\"C:\\\\Users\\\\Admin\\\\Downloads\\\\01jl.png\""
      ]
     },
     "execution_count": 4,
     "metadata": {},
     "output_type": "execute_result"
    }
   ],
   "source": [
    "using DifferentialEquations\n",
    "using Plots\n",
    "\n",
    "n = 4.1\n",
    "s = 12.2\n",
    "fi = 3/4*pi\n",
    "\n",
    "function f(r, p, t)\n",
    "    dr = r/sqrt(n^2-1)\n",
    "    return dr\n",
    "end\n",
    "\n",
    "function f2(t)\n",
    "    xt = tan(fi+pi)*t\n",
    "    return xt\n",
    "end\n",
    "\n",
    "r0 = s/(n+1)\n",
    "\n",
    "theta0 = collect(LinRange(0, 2*pi, 10000))\n",
    "prob = ODEProblem(f, r0, (0, 2*pi))\n",
    "sol = solve(prob, saveat=theta0)\n",
    "\n",
    "t = collect(LinRange(0.00000001, 8, 1000))\n",
    "r1=[]\n",
    "theta1=[]\n",
    "for i in t\n",
    "    push!(r1, sqrt(i^2 + f2(i)^2))\n",
    "    push!(theta1, atan(f2(i)/i))\n",
    "end\n",
    "\n",
    "plot(sol, proj=:polar, label=\"катер\")\n",
    "plot!(theta1, r1, proj=:polar, label=\"лодка\")\n",
    "\n",
    "savefig(\"01jl.png\")"
   ]
  },
  {
   "cell_type": "code",
   "execution_count": 5,
   "id": "e499e79e",
   "metadata": {},
   "outputs": [
    {
     "data": {
      "text/plain": [
       "\"C:\\\\Users\\\\Admin\\\\Downloads\\\\02jl.png\""
      ]
     },
     "execution_count": 5,
     "metadata": {},
     "output_type": "execute_result"
    }
   ],
   "source": [
    "r0 = s/(n-1)\n",
    "\n",
    "theta0 = collect(LinRange(0, 2*pi, 10000))\n",
    "prob = ODEProblem(f, r0, (0, 2*pi))\n",
    "sol = solve(prob, saveat=theta0)\n",
    "\n",
    "t = collect(LinRange(0.00000001, 17, 1000))\n",
    "r1=[]\n",
    "theta1=[]\n",
    "for i in t\n",
    "    push!(r1, sqrt(i^2 + f2(i)^2))\n",
    "    push!(theta1, atan(f2(i)/i))\n",
    "end\n",
    "\n",
    "plot(sol, proj=:polar, label=\"катер\")\n",
    "plot!(theta1, r1, proj=:polar, label=\"лодка\")\n",
    "\n",
    "savefig(\"02jl.png\")"
   ]
  },
  {
   "cell_type": "code",
   "execution_count": null,
   "id": "f31c6125",
   "metadata": {},
   "outputs": [],
   "source": []
  },
  {
   "cell_type": "code",
   "execution_count": null,
   "id": "b83c25e2",
   "metadata": {},
   "outputs": [],
   "source": []
  }
 ],
 "metadata": {
  "kernelspec": {
   "display_name": "Julia 1.8.3",
   "language": "julia",
   "name": "julia-1.8"
  },
  "language_info": {
   "file_extension": ".jl",
   "mimetype": "application/julia",
   "name": "julia",
   "version": "1.8.3"
  }
 },
 "nbformat": 4,
 "nbformat_minor": 5
}
